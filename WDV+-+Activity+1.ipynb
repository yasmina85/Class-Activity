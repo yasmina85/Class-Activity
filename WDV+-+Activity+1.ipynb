{
 "cells": [
  {
   "cell_type": "markdown",
   "metadata": {},
   "source": [
    "# Class Activity 1 - Web Data Visualization Connector\n"
   ]
  },
  {
   "cell_type": "markdown",
   "metadata": {},
   "source": [
    "The activity is based on homework from Michele Weigle, Old Dominion University\n",
    "\n",
    "This activity is group work. The groups should consist of _2-3_ students. Write down the names of your group memebers below."
   ]
  },
  {
   "cell_type": "markdown",
   "metadata": {},
   "source": [
    "_Write down the names of your group memebers, replacing this text._"
   ]
  },
  {
   "cell_type": "markdown",
   "metadata": {},
   "source": [
    "Below are two charts showing the number of participants in each Summer Olympics since 1900. These charts show the same data, but in different ways."
   ]
  },
  {
   "cell_type": "markdown",
   "metadata": {},
   "source": [
    "<img src=\"participants1.png\">"
   ]
  },
  {
   "cell_type": "markdown",
   "metadata": {},
   "source": [
    "<img src=\"participants2.png\">"
   ]
  },
  {
   "cell_type": "markdown",
   "metadata": {},
   "source": [
    "### Part 1\n",
    "For each chart, answer the following questions:\n",
    "1. What year had the most participants?\n",
    "2. What year had the least participants?\n",
    "3. Between what consecutive Olympics was there a decrease in the number of participants? (List all pairs.)\n",
    "4. Between what consecutive Olympics was there the largest increase in participants?\n",
    "5. Olympics are typically held every 4 years. Is there missing data?\n",
    "6. What other questions can you answer with this chart?"
   ]
  },
  {
   "cell_type": "markdown",
   "metadata": {},
   "source": [
    "_Write your answer here, replacing this text._"
   ]
  },
  {
   "cell_type": "markdown",
   "metadata": {},
   "source": [
    "----\n",
    "### Part 2 \n",
    "As you answer the questions, note what you actually did to find the answer. Where did you look? What did you compare?"
   ]
  },
  {
   "cell_type": "markdown",
   "metadata": {},
   "source": [
    "_Write your answer here, replacing this text._"
   ]
  },
  {
   "cell_type": "markdown",
   "metadata": {},
   "source": [
    "----\n",
    "### Part 3 \n",
    "Now that you've looked at both charts, compare and contrast the charts. For which questions was the bar chart easier to read? For which questions was the line chart easier to read? Why?\n",
    "Your answer must include your group's thoughts on the advantages and disadvantages of each type of chart for the types of questions that were asked."
   ]
  },
  {
   "cell_type": "markdown",
   "metadata": {},
   "source": [
    "_Write your answer here, replacing this text._"
   ]
  },
  {
   "cell_type": "markdown",
   "metadata": {},
   "source": [
    "### Submission\n",
    "From within your notebook, click: File >> Download as.. >> Notebook (.pdf) \n",
    "Upload the file to bCourses named Activity1_memeber1name_member2name.pdf\n"
   ]
  }
 ],
 "metadata": {
  "kernelspec": {
   "display_name": "Python 3",
   "language": "python",
   "name": "python3"
  },
  "language_info": {
   "codemirror_mode": {
    "name": "ipython",
    "version": 3
   },
   "file_extension": ".py",
   "mimetype": "text/x-python",
   "name": "python",
   "nbconvert_exporter": "python",
   "pygments_lexer": "ipython3",
   "version": "3.6.1"
  }
 },
 "nbformat": 4,
 "nbformat_minor": 2
}

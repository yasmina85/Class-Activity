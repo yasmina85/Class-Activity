{
 "cells": [
  {
   "cell_type": "markdown",
   "metadata": {},
   "source": [
    "# Assignment 2: Getting data from Twitter API"
   ]
  },
  {
   "cell_type": "markdown",
   "metadata": {},
   "source": [
    "For working on this assignment, the easiest way is to log into the [datahub.berkeley.edu](http://datahub.berkeley.edu). If you have a @berkeley.edu email address, you already have full access to the programming environment hosted on that site. "
   ]
  },
  {
   "cell_type": "markdown",
   "metadata": {},
   "source": [
    "## 1. Intro"
   ]
  },
  {
   "cell_type": "markdown",
   "metadata": {},
   "source": [
    "Twitter collects a *lot* of data. Ranging from tweets themselves, to data about users, to data about likes and other interactions, Twitter basically records everything that happens on their website. Lucky for data scientists like ourselves, Twitter also shares that data with us! In this assignment, we're going to use Twitter's API to analyze retweet statistics, demographics, and some other data too! "
   ]
  },
  {
   "cell_type": "markdown",
   "metadata": {},
   "source": [
    "## 2. Importing Libraries"
   ]
  },
  {
   "cell_type": "markdown",
   "metadata": {},
   "source": [
    "Other people are also interested in analyzing Twitter data, so there's been work done here already. That means other folks have developed useful collections of code — called libraries — which handle a lot of parsing and data management, so that we don't have to. Since these libraries are published online, we have access to all that hard work too! That means we can use code from those libraries to handle all the complicated Twitter models, so we only have to worry about the actual analysis (which is the fun part)."
   ]
  },
  {
   "cell_type": "markdown",
   "metadata": {},
   "source": [
    "You don't need to worry too much about the code in the next cell. Its purpose is to install libraries that other people have written, so that we have access to them later on."
   ]
  },
  {
   "cell_type": "code",
   "execution_count": 28,
   "metadata": {},
   "outputs": [
    {
     "name": "stdout",
     "output_type": "stream",
     "text": [
      "Requirement already satisfied: tweepy in /srv/app/venv/lib/python3.6/site-packages\n",
      "Requirement already satisfied: six>=1.7.3 in /srv/app/venv/lib/python3.6/site-packages (from tweepy)\n",
      "Requirement already satisfied: requests-oauthlib>=0.4.1 in /srv/app/venv/lib/python3.6/site-packages (from tweepy)\n",
      "Requirement already satisfied: requests>=2.4.3 in /srv/app/venv/lib/python3.6/site-packages (from tweepy)\n",
      "Requirement already satisfied: oauthlib>=0.6.2 in /srv/app/venv/lib/python3.6/site-packages (from requests-oauthlib>=0.4.1->tweepy)\n",
      "Requirement already satisfied: textblob in /srv/app/venv/lib/python3.6/site-packages\n",
      "Requirement already satisfied: nltk>=3.1 in /srv/app/venv/lib/python3.6/site-packages (from textblob)\n",
      "Requirement already satisfied: six in /srv/app/venv/lib/python3.6/site-packages (from nltk>=3.1->textblob)\n",
      "Requirement already satisfied: plotly in /srv/app/venv/lib/python3.6/site-packages\n",
      "Requirement already satisfied: decorator>=4.0.6 in /srv/app/venv/lib/python3.6/site-packages (from plotly)\n",
      "Requirement already satisfied: nbformat>=4.2 in /srv/app/venv/lib/python3.6/site-packages (from plotly)\n",
      "Requirement already satisfied: pytz in /srv/app/venv/lib/python3.6/site-packages (from plotly)\n",
      "Requirement already satisfied: requests in /srv/app/venv/lib/python3.6/site-packages (from plotly)\n",
      "Requirement already satisfied: six in /srv/app/venv/lib/python3.6/site-packages (from plotly)\n",
      "Requirement already satisfied: jupyter-core in /srv/app/venv/lib/python3.6/site-packages (from nbformat>=4.2->plotly)\n",
      "Requirement already satisfied: ipython-genutils in /srv/app/venv/lib/python3.6/site-packages (from nbformat>=4.2->plotly)\n",
      "Requirement already satisfied: traitlets>=4.1 in /srv/app/venv/lib/python3.6/site-packages (from nbformat>=4.2->plotly)\n",
      "Requirement already satisfied: jsonschema!=2.5.0,>=2.4 in /srv/app/venv/lib/python3.6/site-packages (from nbformat>=4.2->plotly)\n",
      "Requirement already satisfied: nltk in /srv/app/venv/lib/python3.6/site-packages\n",
      "Requirement already satisfied: six in /srv/app/venv/lib/python3.6/site-packages (from nltk)\n"
     ]
    }
   ],
   "source": [
    "!pip install tweepy    # This halps us access Twitter data.\n",
    "!pip install textblob  # This helps us parse text.\n",
    "!pip install plotly    # This makes it easy to plot graphs.\n",
    "!pip install nltk      # This is also to parse text."
   ]
  },
  {
   "cell_type": "markdown",
   "metadata": {},
   "source": [
    "## 3. Accessing the Data"
   ]
  },
  {
   "cell_type": "markdown",
   "metadata": {},
   "source": [
    "### Question 1\n",
    "Follow these instructions to get your keys:\n",
    "To work on Twitter data, we'll first need two things: a Twitter account, and Twitter keys. Here are the steps to follow:\n",
    "\n",
    "1. [Create a Twitter account](https://twitter.com).  You can use an existing account if you have one.\n",
    "1. [Create a Twitter developer account](https://dev.twitter.com/resources/signup).  Attach it to your Twitter account.\n",
    "1. Once you're logged into your developer account, [create an application for this assignment](https://apps.twitter.com/app/new).  You can call it whatever you want, and you can write any URL when it asks for a web site.\n",
    "1. On the page for that application, find your Consumer Key and Consumer Secret. Don't lose these!\n",
    "1. On the same page, create an Access Token. Record the resulting Access Token and Access Token Secret. Don't lose these either!\n",
    "\n",
    "**Security concern:** DO NOT share your access keys with anyone. They can be used to manage your Twitter account without your permission."
   ]
  },
  {
   "cell_type": "markdown",
   "metadata": {},
   "source": [
    "Add your credentials in the cell below. Your program will use them to access Twitter data."
   ]
  },
  {
   "cell_type": "code",
   "execution_count": 29,
   "metadata": {},
   "outputs": [],
   "source": [
    "consumer_key = \"IjI8AdEUOlzif3J0qgt6bw9JI\"\n",
    "consumer_secret = \"gZLhygPv5uBCWIQVr6sZjCgYVfcXGzGuTNl7oOapYmWazdLEm6\"\n",
    "access_key = \"278661116-qdUru3GXVYT9upGH0cgbwROu4KzypMSwQgknMNW2\"\n",
    "access_secret = \"RMZY9H7vvbuHq9jFZO4fdtw5cBPZUlbLDhEwU9zir6LyG\""
   ]
  },
  {
   "cell_type": "markdown",
   "metadata": {},
   "source": [
    "The next cell will authorize your program to request Twitter data, through the developer account you just set up."
   ]
  },
  {
   "cell_type": "code",
   "execution_count": 30,
   "metadata": {},
   "outputs": [],
   "source": [
    "import tweepy\n",
    "auth = tweepy.OAuthHandler(consumer_key, consumer_secret)\n",
    "auth.set_access_token(access_key, access_secret)\n",
    "api = tweepy.API(auth)"
   ]
  },
  {
   "cell_type": "markdown",
   "metadata": {},
   "source": [
    "**Note**: A lot of data scientists like Twitter data. As a result, you can only request data approximately once every 15 minutes to keep Twitter's servers from crashing due to too much activity. Use your requests wisely to avoid unnecessary waiting time."
   ]
  },
  {
   "cell_type": "markdown",
   "metadata": {},
   "source": [
    "### Question 2:\n",
    "[Twitter API](https://dev.twitter.com/overview/api) can be used for retrieving different objects (e.g., tweets). List the other possible objects that can be retrieved by Twitter API.\n"
   ]
  },
  {
   "cell_type": "markdown",
   "metadata": {},
   "source": [
    "**Answer:**\n",
    "1. Users\n",
    "1. Entities\n",
    "1. Places"
   ]
  },
  {
   "cell_type": "markdown",
   "metadata": {
    "collapsed": true
   },
   "source": [
    "Now that everything is set up, we can use [Twitter's search API](https://dev.twitter.com/rest/reference/get/search/tweets) to find the word \"Berkeley\". This will give us the same results as using [Twitter's online \"search\" page](https://twitter.com/search?q=berkeley)."
   ]
  },
  {
   "cell_type": "code",
   "execution_count": 4,
   "metadata": {},
   "outputs": [],
   "source": [
    "results = tweepy.Cursor(api.search,   # `api.search` specifies we want to perform a search.\n",
    "                        q='Berkeley', # `q` is the query, or the words we're searching for.\n",
    "                        result_type='popular') # We'll prioritize more popular results first."
   ]
  },
  {
   "cell_type": "markdown",
   "metadata": {},
   "source": [
    "Now `results` is a long list of search results. Since it is actually pretty extensive, let's just take the first ten results. In the next cell we build up a list called `first_ten`, which contains just the first ten tweets we found in `results`."
   ]
  },
  {
   "cell_type": "code",
   "execution_count": 5,
   "metadata": {},
   "outputs": [],
   "source": [
    "first_ten = []                  # We start out with an empty list called `first_ten`.\n",
    "for tweet in results.items(10): # Then, we'll iterate over the first 10 tweets in `results`...\n",
    "    first_ten.append(tweet)     # And we'll add each of those tweets to `first_ten`."
   ]
  },
  {
   "cell_type": "markdown",
   "metadata": {},
   "source": [
    "Now lets have a peek at what the data looks like. "
   ]
  },
  {
   "cell_type": "code",
   "execution_count": null,
   "metadata": {},
   "outputs": [],
   "source": [
    "print(first_ten)"
   ]
  },
  {
   "cell_type": "markdown",
   "metadata": {},
   "source": [
    "## 4. Exploring the Dataset"
   ]
  },
  {
   "cell_type": "markdown",
   "metadata": {},
   "source": [
    "Twitter gives us a lot of information about each tweet, not just its text. You can read about all the details [here](https://dev.twitter.com/overview/api/tweets). Let's look at one tweet to get a sense of the information we have available. We can access just the first tweet in our list by indexing into it. Note, the first index in the list is actually 0, not 1, so we will actually say `first_ten[0]` to see the first tweet in our list of ten tweets."
   ]
  },
  {
   "cell_type": "code",
   "execution_count": null,
   "metadata": {
    "scrolled": false
   },
   "outputs": [],
   "source": [
    "print(first_ten[9]) # Try changing this to any number 0-9, to see other tweets in the list."
   ]
  },
  {
   "cell_type": "code",
   "execution_count": 8,
   "metadata": {},
   "outputs": [
    {
     "name": "stdout",
     "output_type": "stream",
     "text": [
      "Fraternal Order of Police successfully lobbied Trump to cancel funding for exhibit at Cal on Black Panthers: https://t.co/8pRq5VnAvn\n"
     ]
    }
   ],
   "source": [
    "print(first_ten[0].text) # Try this and inspect what it does"
   ]
  },
  {
   "cell_type": "code",
   "execution_count": 9,
   "metadata": {},
   "outputs": [
    {
     "name": "stdout",
     "output_type": "stream",
     "text": [
      "2017-10-29 13:33:52\n"
     ]
    }
   ],
   "source": [
    "print(first_ten[0].created_at) # Try this and inspect what it does "
   ]
  },
  {
   "cell_type": "markdown",
   "metadata": {},
   "source": [
    "### Question 3:\n",
    "Which field contains each of the following attributes:\n",
    "1. The tweet's text?\n",
    "1. The time when the tweet was posted?\n",
    "1. The geographic location of the tweet?\n",
    "1. The source (device and app) where the tweet was written?"
   ]
  },
  {
   "cell_type": "markdown",
   "metadata": {},
   "source": [
    "**Answer:**\n",
    "1. text\n",
    "1. created_at\n",
    "1. coordinates\n",
    "1. source"
   ]
  },
  {
   "cell_type": "markdown",
   "metadata": {},
   "source": [
    "## 5. Analyzing the Dataset"
   ]
  },
  {
   "cell_type": "markdown",
   "metadata": {},
   "source": [
    "It's time to do analysis! Let's start out by getting a list, where each entry corresponds to how many retweets we got in the first "
   ]
  },
  {
   "cell_type": "code",
   "execution_count": 21,
   "metadata": {},
   "outputs": [
    {
     "name": "stdout",
     "output_type": "stream",
     "text": [
      "[1149, 187, 76, 136, 49, 117, 258, 49, 23, 16]\n"
     ]
    }
   ],
   "source": [
    "retweet_counts = []                      # We start with an empty list called `retweet_counts`.\n",
    "for tweet in first_ten:                  # Then, we iterate over the tweets in `first_ten`...\n",
    "    retweet_count = tweet.retweet_count  # And, for each tweet, get the number of retweets...\n",
    "    retweet_counts.append(retweet_count) # And append that number to our list `retweet_counts`.\n",
    "    \n",
    "print(retweet_counts)"
   ]
  },
  {
   "cell_type": "markdown",
   "metadata": {},
   "source": [
    "Let's try and draw it:"
   ]
  },
  {
   "cell_type": "code",
   "execution_count": 20,
   "metadata": {},
   "outputs": [
    {
     "data": {
      "image/png": "[encoded data removed]",
      "text/plain": [
       "<matplotlib.figure.Figure at 0x7fa7e87d7748>"
      ]
     },
     "metadata": {},
     "output_type": "display_data"
    }
   ],
   "source": [
    "import matplotlib.pyplot as plt\n",
    "plt.hist(retweet_counts)\n",
    "plt.xlabel(\"Retweet counts\")\n",
    "plt.ylabel(\"Frequency\")\n",
    "plt.show()"
   ]
  },
  {
   "cell_type": "markdown",
   "metadata": {},
   "source": [
    "### Question 4\n",
    "Twitter search api provides three modes (check out this [guide](https://dev.twitter.com/rest/reference/get/search/tweets)) for the result_type: mix, recent, and popular. In the previous code, we retrieved the popular tweets. \n",
    "Now it is your turn to retrieve recent 100 tweets and assign them to a new variable (e.g., results_recent100), then plot a histogram for the retweet count of the recent 100 tweets. You can follow our example code if you wish. \n"
   ]
  },
  {
   "cell_type": "markdown",
   "metadata": {},
   "source": [
    "**Answer**\n"
   ]
  },
  {
   "cell_type": "code",
   "execution_count": 12,
   "metadata": {},
   "outputs": [
    {
     "data": {
      "image/png": "[encoded data removed]",
      "text/plain": [
       "<matplotlib.figure.Figure at 0x7fa7e8ed2fd0>"
      ]
     },
     "metadata": {},
     "output_type": "display_data"
    }
   ],
   "source": [
    "results_recent100 = tweepy.Cursor(api.search, q='Berkeley', result_type='recent')\n",
    "first_recent100 = []\n",
    "for tweet in results_recent100.items(100):\n",
    "    first_recent100.append(tweet)\n",
    "retweet_counts_recent100 = []\n",
    "for tweet in first_recent100:\n",
    "    retweet_count_recent100 = tweet.retweet_count\n",
    "    retweet_counts_recent100.append(retweet_count_recent100)\n",
    "\n",
    "import matplotlib.pyplot as plt\n",
    "plt.hist(retweet_counts_recent100)\n",
    "plt.xlabel(\"Retweet counts\")\n",
    "plt.ylabel(\"Frequency\")\n",
    "plt.show()"
   ]
  },
  {
   "cell_type": "markdown",
   "metadata": {},
   "source": [
    "### Question 5\n",
    "Compare and contrast between the two histograms for retweet counts of recent and popular 100 tweets that returns from searching the word Berkeley. "
   ]
  },
  {
   "cell_type": "markdown",
   "metadata": {},
   "source": [
    "**Answer**: The answer for this questions has two parts:\n",
    "1. Plot of the retweet counts of the most 100 popular tweets\n",
    "2. Text comparison between the plot the most 100 popular and the plot of the most 100 recent tweets that was plotted in the previous question\n"
   ]
  },
  {
   "cell_type": "code",
   "execution_count": 13,
   "metadata": {},
   "outputs": [
    {
     "data": {
      "image/png": "[encoded data removed]",
      "text/plain": [
       "<matplotlib.figure.Figure at 0x7fa7e8ea0ba8>"
      ]
     },
     "metadata": {},
     "output_type": "display_data"
    }
   ],
   "source": [
    "\n",
    "results_popular100 = tweepy.Cursor(api.search, q='Berkeley', result_type='popular')\n",
    "first_popular100 = []\n",
    "for tweet in results_popular100.items(100):\n",
    "    first_popular100.append(tweet)\n",
    "retweet_counts_popular100 = []\n",
    "for tweet in first_popular100:\n",
    "    retweet_count_popular100 = tweet.retweet_count\n",
    "    retweet_counts_popular100.append(retweet_count_popular100)\n",
    "\n",
    "import matplotlib.pyplot as plt\n",
    "plt.hist(retweet_counts_popular100)\n",
    "plt.xlabel(\"Retweet counts\")\n",
    "plt.ylabel(\"Frequency\")\n",
    "plt.show()"
   ]
  },
  {
   "cell_type": "markdown",
   "metadata": {},
   "source": [
    "\n"
   ]
  },
  {
   "cell_type": "markdown",
   "metadata": {
    "collapsed": true
   },
   "source": [
    "From the above graphs, we notice that the most popular tweets has more retweets than the recent tweets. Some tweets in the most popular 100 tweets has 4000 retweets, while the maximum retweets of the most 100 recent tweets is 1200. "
   ]
  },
  {
   "cell_type": "markdown",
   "metadata": {},
   "source": [
    "## Users\n",
    "Instead of searching for tweets, you can use Twitter APIs to get details about specific user account. It includes user’s timeline, followers, etc.\n",
    "\n",
    "Get the latest 10 tweets from an account that interests you (e.g.,  UCBerkeley) twitter account using the following code."
   ]
  },
  {
   "cell_type": "code",
   "execution_count": null,
   "metadata": {},
   "outputs": [],
   "source": [
    "user_results = api.user_timeline(screen_name='UCBerkeley', count=10)\n",
    "print(user_results)\n",
    "user_results_tweets = []           # We start with an empty list called user_results_tweets\n",
    "\n",
    "for t in user_results:             #Then, we iterate over the tweets in user_results\n",
    "    user_results_tweets.append(t)#And we'll add each of those tweets to user_results_tweets \n",
    "    print(t)"
   ]
  },
  {
   "cell_type": "code",
   "execution_count": null,
   "metadata": {},
   "outputs": [],
   "source": [
    "#Let's look at one tweet\n",
    "print(user_results_tweets[0])\n"
   ]
  },
  {
   "cell_type": "code",
   "execution_count": 16,
   "metadata": {},
   "outputs": [
    {
     "name": "stdout",
     "output_type": "stream",
     "text": [
      "2017-Oct-30 20:03\n",
      "World #science journalists explore Berkeley’s best, incl. jumping #robots 🤖:  https://t.co/LHTJxNn4q2  @WCSJ2017… https://t.co/WVxw2r7xcj\n",
      "\n",
      "2017-Oct-30 18:55\n",
      "RT @CalAdmissions: Join us for a Facebook Live Q&amp;A panel at 6pm PST, featuring freshman &amp; transfer applicant experts. https://t.co/AsZFqJ1A…\n",
      "\n",
      "2017-Oct-30 18:45\n",
      "“I wanted to obliterate whatever preconceptions people have abt people w/ #disabilities.” Hale Zukas story:… https://t.co/QWPj1mH1lv\n",
      "\n",
      "2017-Oct-30 17:49\n",
      "RT @UofCalifornia: UC remains committed to ensuring that fall 2018 applicants affected by the recent natural disasters receive support. htt…\n",
      "\n",
      "2017-Oct-30 16:17\n",
      "Last chance to support Berkeley student #crowdfunding projects. Help go from idea to impact:… https://t.co/cL0O01zT4y\n",
      "\n",
      "2017-Oct-30 15:25\n",
      "RT @BerkeleyLab: Get your #darkmatter questions answered today by dark matter hunter Dan McKinsey. LIVE @reddit_AMA, 2p ET/11a PT https://t…\n",
      "\n",
      "2017-Oct-30 15:03\n",
      "ICYMI: $65.5 million from @NIH to create #brain atlas w/ @Allen_Institute https://t.co/zi0HMYHE66 https://t.co/2be1kCgKh4\n",
      "\n",
      "2017-Oct-30 04:16\n",
      "It's always a delight to have brainy folk visit our campus. Bon voyage #wcsj2017 conference attendees! https://t.co/NBShdoMA3A\n",
      "\n",
      "2017-Oct-30 02:03\n",
      "See more on squirrels 🐿 :  https://t.co/9AsBQnXQ3F and https://t.co/i1d69GxTrj https://t.co/wLDhuVJcMC\n",
      "\n",
      "2017-Oct-30 01:04\n",
      "“We all have the capability to start something and do something.”\n",
      "ICYMI: Resistance School https://t.co/AtsAE3wRyE… https://t.co/jJWUaiX5Op\n",
      "\n"
     ]
    }
   ],
   "source": [
    "#print the text of the first 10 tweets\n",
    "for tweet in user_results_tweets:\n",
    "    print(tweet.created_at.strftime(\"%Y-%b-%d %H:%M\"))\n",
    "    print(tweet.text)\n",
    "    print()"
   ]
  },
  {
   "cell_type": "markdown",
   "metadata": {},
   "source": [
    "### Question 6\n",
    "\n",
    "Look at the text of retrieved tweets and compare them to the latest 10 tweets of the [web interface](https://twitter.com/UCBerkeley) for the same user. Do you see any difference? "
   ]
  },
  {
   "cell_type": "markdown",
   "metadata": {},
   "source": [
    "**Answer**: The text of tweets on the web interface is the same as the text retrieved by the API. However, there are few differences you notice in the whole tweets. For example, you find the pinned tweet appears on the top of the Web interface. Furthermore, the links in the tweets are shortened in the retrieved text by the API, for example, the second tweet above contains a shortened link for this link: https://www.facebook.com/UCBerkeleyAdmissions, which is not shortened in the [tweet](https://twitter.com/CalAdmissions/status/925037086201262083) on the Web interface. \n",
    "\n",
    "Here is the text of the tweet as retrieved by the API:\n",
    "\"RT @CalAdmissions: Join us for a Facebook Live Q&amp;A panel at 6pm PST, featuring freshman &amp; transfer applicant experts. https://t.co/AsZFqJ1A…\"\n",
    "\n",
    "Here is the text of the same tweet of the Web interface:\n",
    "\"Join us for a Facebook Live Q&A panel at 6pm PST, featuring freshman & transfer applicant experts. http://www.facebook.com/UCBerkeleyAdmissions … #BeBerkeley\"\n",
    "\n",
    "\n"
   ]
  },
  {
   "cell_type": "markdown",
   "metadata": {},
   "source": [
    "Get a list of a followers for UCBerkeley."
   ]
  },
  {
   "cell_type": "code",
   "execution_count": null,
   "metadata": {
    "scrolled": false
   },
   "outputs": [],
   "source": [
    "followers_list = []\n",
    "followers_results = api.followers(screen_name='UCBerkeley', count=200)\n",
    "for f in followers_results:\n",
    "    followers_list.append(f)\n",
    "#print 10 followers of @UCBerkeley\n",
    "for f in followers_list(10):\n",
    "    print(f.name)"
   ]
  },
  {
   "cell_type": "markdown",
   "metadata": {},
   "source": [
    "There’s a limit on how many users can be returned by one request. If you need more, please read [using cursors to navigate collections](https://dev.twitter.com/overview/api/cursoring)."
   ]
  },
  {
   "cell_type": "markdown",
   "metadata": {},
   "source": [
    "### Extra Credit Question \n",
    "We saw how to use Twitter API to search for tweets. The [Search API](https://dev.twitter.com/rest/public/search) has an option to filter the query results by geo location. The parameter value is specified by ”latitude,longitude,radius” (check out the documentation of API  for more information). Compare the top 10 popular tweets text that contain the word 'berkeley' from four geo locations: Berkeley, Kansas City, New York, and Barcelona Spain.\n"
   ]
  },
  {
   "cell_type": "markdown",
   "metadata": {},
   "source": [
    "**Answer:** I provided the code that answers the question, but there is an extra step that should be done to answer the question. You should look at the text retrieved of tweets of each city and mention any insight you discovered from investigating the text. You can plot word clouds for the text of each city's tweets or just investigate that manually by reading the entire text. "
   ]
  },
  {
   "cell_type": "code",
   "execution_count": 31,
   "metadata": {},
   "outputs": [
    {
     "name": "stdout",
     "output_type": "stream",
     "text": [
      "*****The text of the first 10 tweets that come from Berkeley*****\n",
      "\n",
      "Fraternal Order of Police successfully lobbied Trump to cancel funding for exhibit at Cal on Black Panthers: https://t.co/8pRq5VnAvn\n",
      "After being lobbied by the Fraternal Order of Police, the @NatlParkService killed a Black Panther exhibit at Cal. https://t.co/fhQ0mSpZq0\n",
      "Government takes back funding for UC Berkeley Black Panther Project after complaints from police union… https://t.co/EyMswLCQGX\n",
      "Thank you Berkeley for 3 incredible nights!! https://t.co/vRzs6wZ80n\n",
      "UC Berkeley Paper Apologizes For Anti-Semitic Cartoon https://t.co/g621W8Bt1I\n",
      ".@AlanDersh: \"They're shouting me down because of who I am. It's all about stereotypes and that has to STOP.\"… https://t.co/s3VptrDfUg\n",
      ".@swmrs #UncoolHalloween is going off in Berkeley. https://t.co/JchtE82zBy\n",
      "Feds pull funding for Black Panther legacy project in Berkeley after backlash https://t.co/XDwIpFszkY https://t.co/rVisPTjOm5\n",
      "You may have seen Hale Zukas around Berkeley. Did you know he helped lead the disability rights movement?… https://t.co/2gbWQCN36w\n",
      "Berkeley Student Newspaper Retracts Anti-Semitic Cartoon Targeting Alan Dershowitz, And Issues Apology...Sort Of… https://t.co/EQOO7Dmrap\n",
      "\n",
      "\n",
      "*****The text of the first 10 tweets that come from Kansas City*****\n",
      "\n",
      "Fraternal Order of Police successfully lobbied Trump to cancel funding for exhibit at Cal on Black Panthers: https://t.co/8pRq5VnAvn\n",
      "After being lobbied by the Fraternal Order of Police, the @NatlParkService killed a Black Panther exhibit at Cal. https://t.co/fhQ0mSpZq0\n",
      "Government takes back funding for UC Berkeley Black Panther Project after complaints from police union… https://t.co/EyMswLCQGX\n",
      "Thank you Berkeley for 3 incredible nights!! https://t.co/vRzs6wZ80n\n",
      "UC Berkeley Paper Apologizes For Anti-Semitic Cartoon https://t.co/g621W8Bt1I\n",
      ".@AlanDersh: \"They're shouting me down because of who I am. It's all about stereotypes and that has to STOP.\"… https://t.co/s3VptrDfUg\n",
      ".@swmrs #UncoolHalloween is going off in Berkeley. https://t.co/JchtE82zBy\n",
      "Feds pull funding for Black Panther legacy project in Berkeley after backlash https://t.co/XDwIpFszkY https://t.co/rVisPTjOm5\n",
      "You may have seen Hale Zukas around Berkeley. Did you know he helped lead the disability rights movement?… https://t.co/2gbWQCN36w\n",
      "Berkeley Student Newspaper Retracts Anti-Semitic Cartoon Targeting Alan Dershowitz, And Issues Apology...Sort Of… https://t.co/EQOO7Dmrap\n",
      "\n",
      "\n",
      "*****The text of the first 10 tweets that come from New York*****\n",
      "\n",
      "Fraternal Order of Police successfully lobbied Trump to cancel funding for exhibit at Cal on Black Panthers: https://t.co/8pRq5VnAvn\n",
      "After being lobbied by the Fraternal Order of Police, the @NatlParkService killed a Black Panther exhibit at Cal. https://t.co/fhQ0mSpZq0\n",
      "Government takes back funding for UC Berkeley Black Panther Project after complaints from police union… https://t.co/EyMswLCQGX\n",
      "Thank you Berkeley for 3 incredible nights!! https://t.co/vRzs6wZ80n\n",
      "UC Berkeley Paper Apologizes For Anti-Semitic Cartoon https://t.co/g621W8Bt1I\n",
      ".@AlanDersh: \"They're shouting me down because of who I am. It's all about stereotypes and that has to STOP.\"… https://t.co/s3VptrDfUg\n",
      ".@swmrs #UncoolHalloween is going off in Berkeley. https://t.co/JchtE82zBy\n",
      "Feds pull funding for Black Panther legacy project in Berkeley after backlash https://t.co/XDwIpFszkY https://t.co/rVisPTjOm5\n",
      "You may have seen Hale Zukas around Berkeley. Did you know he helped lead the disability rights movement?… https://t.co/2gbWQCN36w\n",
      "Berkeley Student Newspaper Retracts Anti-Semitic Cartoon Targeting Alan Dershowitz, And Issues Apology...Sort Of… https://t.co/EQOO7Dmrap\n",
      "\n",
      "\n",
      "*****The text of the first 10 tweets that come from Barcelona*****\n",
      "\n",
      "Fraternal Order of Police successfully lobbied Trump to cancel funding for exhibit at Cal on Black Panthers: https://t.co/8pRq5VnAvn\n",
      "After being lobbied by the Fraternal Order of Police, the @NatlParkService killed a Black Panther exhibit at Cal. https://t.co/fhQ0mSpZq0\n",
      "Government takes back funding for UC Berkeley Black Panther Project after complaints from police union… https://t.co/EyMswLCQGX\n",
      "Thank you Berkeley for 3 incredible nights!! https://t.co/vRzs6wZ80n\n",
      "UC Berkeley Paper Apologizes For Anti-Semitic Cartoon https://t.co/g621W8Bt1I\n",
      ".@AlanDersh: \"They're shouting me down because of who I am. It's all about stereotypes and that has to STOP.\"… https://t.co/s3VptrDfUg\n",
      ".@swmrs #UncoolHalloween is going off in Berkeley. https://t.co/JchtE82zBy\n",
      "Feds pull funding for Black Panther legacy project in Berkeley after backlash https://t.co/XDwIpFszkY https://t.co/rVisPTjOm5\n",
      "You may have seen Hale Zukas around Berkeley. Did you know he helped lead the disability rights movement?… https://t.co/2gbWQCN36w\n",
      "Berkeley Student Newspaper Retracts Anti-Semitic Cartoon Targeting Alan Dershowitz, And Issues Apology...Sort Of… https://t.co/EQOO7Dmrap\n",
      "\n",
      "\n"
     ]
    }
   ],
   "source": [
    "pop_tweets_BC = tweepy.Cursor(api.search, q='Berkeley', result_type='popular', geo_code=\"37.871593,-122.272747\")\n",
    "pop_tweets_KC = tweepy.Cursor(api.search, q='Berkeley', result_type='popular', geo_code=\"39.099727, -94.578567\")\n",
    "pop_tweets_NY = tweepy.Cursor(api.search, q='Berkeley', result_type='popular', geo_code=\"40.712784, -74.005941\")\n",
    "pop_tweets_BS = tweepy.Cursor(api.search, q='Berkeley', result_type='popular', geo_code=\"41.385064, -2.173403\")\n",
    "\n",
    "top10BC = []\n",
    "top10KC = []\n",
    "top10NY = []\n",
    "top10BS = []\n",
    "\n",
    "for tweet in pop_tweets_BC.items(10):\n",
    "    top10BC.append(tweet)\n",
    "for tweet in pop_tweets_KC.items(10):\n",
    "    top10KC.append(tweet)\n",
    "for tweet in pop_tweets_NY.items(10):\n",
    "    top10NY.append(tweet)\n",
    "for tweet in pop_tweets_BS.items(10):\n",
    "    top10BS.append(tweet)\n",
    "\n",
    "#print the text of the first 10 tweets of each city\n",
    "print(\"*****The text of the first 10 tweets that come from Berkeley*****\")\n",
    "print()\n",
    "for tweet in top10BC:\n",
    "    print(tweet.text)\n",
    "print()\n",
    "print()\n",
    "    \n",
    "print(\"*****The text of the first 10 tweets that come from Kansas City*****\")\n",
    "print()\n",
    "for tweet in top10KC:\n",
    "    print(tweet.text)\n",
    "print()\n",
    "print()\n",
    "\n",
    "print(\"*****The text of the first 10 tweets that come from New York*****\")  \n",
    "print()\n",
    "for tweet in top10NY:\n",
    "    print(tweet.text)\n",
    "print()\n",
    "print()\n",
    "\n",
    "print(\"*****The text of the first 10 tweets that come from Barcelona*****\")\n",
    "print()\n",
    "for tweet in top10BS:\n",
    "    print(tweet.text)\n",
    "print()\n",
    "print()\n",
    "    "
   ]
  },
  {
   "cell_type": "markdown",
   "metadata": {},
   "source": [
    "### Extra Credit Question\n",
    "Based on profile_location in the follower data, Compare between the followers of Donald Trump and Hillary Clinton in terms of their locations. We are curious as to whether or not there is a difference locationally between Clinton followers and Trump followers (*note following does not necessarily mean supporting :-)*)  \n",
    "\n",
    "We can do this by seeing where their respective lists have commonality.  Make a list of similar places!  \n",
    "\n",
    "Advanced (optional): Make your implementation faster for finding the similar places! Think about changing data structure."
   ]
  },
  {
   "cell_type": "markdown",
   "metadata": {
    "collapsed": true
   },
   "source": [
    "**Answer:**\n",
    "We provided the code that retrieve the followers locations. You can find how retrieve the geo of followers from the API and plot them into a map or you can take the cities, and map them to their geo then plot a map."
   ]
  },
  {
   "cell_type": "code",
   "execution_count": 23,
   "metadata": {
    "scrolled": true
   },
   "outputs": [
    {
     "name": "stdout",
     "output_type": "stream",
     "text": [
      "Trump's followers: \n",
      "England, United Kingdom\n",
      "West Virginia, USA\n",
      "Leeds, England\n",
      "Dublin City, Ireland\n",
      "Grass Valley, CA\n",
      "Lincoln, NE\n",
      "Johannesburg, South Africa\n",
      "South Africa\n",
      "Stateside of ‘the Pond’ \n",
      "United States\n",
      "Chattanooga, TN\n",
      "Denmark\n",
      "Virginia, USA\n",
      "Heart of Galaxy Earth\n",
      "Toronto, Canada\n",
      "Esteio, Rio Grande do Sul\n",
      "\n",
      "\n",
      "Hillary's followers: \n",
      "Malvern, PA\n",
      "Haida Gwaii, BC, Canada\n",
      "Indiana, USA\n",
      "Gastonia, NC\n",
      "Baltimore, MD\n",
      "Hackney, London\n",
      "Hawdyan-Erbil\n",
      "Toronto, Canada\n",
      "San Francisco, CA\n",
      "Spokane, WA\n",
      "Lakeland\n",
      "England\n",
      "Houston, TX\n",
      "Jakarta\n",
      "Key West, FL\n",
      "['Toronto, Canada']\n"
     ]
    }
   ],
   "source": [
    "users_trump_followers = api.followers(screen_name=\"realDonaldTrump\", count=100)\n",
    "names_followers_trump = []\n",
    "for follower in users_trump_followers:\n",
    "    if follower.location:\n",
    "        names_followers_trump.append(follower.location)\n",
    "        \n",
    "print(\"Trump's followers: \")\n",
    "for f in names_followers_trump:\n",
    "    print(f)\n",
    "    \n",
    "users_clinton_followers = api.followers(screen_name=\"HillaryClinton\", count=100)\n",
    "names_followers_clinton = []\n",
    "for follower in users_clinton_followers:\n",
    "    if follower.location:\n",
    "        names_followers_clinton.append(follower.location)\n",
    "        \n",
    "print()\n",
    "print()\n",
    "print(\"Hillary's followers: \")\n",
    "for f in names_followers_clinton:\n",
    "    print(f)\n",
    "    \n",
    "similar_cities = []\n",
    "for follower_c in names_followers_clinton:\n",
    "    for follower_t in names_followers_trump:\n",
    "       if follower_c == follower_t:\n",
    "        similar_cities.append(follower_c)\n",
    "print(similar_cities)\n",
    "        \n",
    "        \n"
   ]
  },
  {
   "cell_type": "markdown",
   "metadata": {},
   "source": [
    "### Submitting the assignment\n",
    "\n",
    "- Delete your Twitter API credentials, ie. re-assign `consumer_key`, `consumer_secret`, `access_key`, and `access_secret` to empty strings so that we won't see your credentials when you save and sumbit it.\n",
    "- Save this jupyter notebook as a pdf. Click File, Download as, PDF via LaTex (.pdf).\n",
    "- Upload the pdf file into bcourses under Assignment 2."
   ]
  },
  {
   "cell_type": "code",
   "execution_count": null,
   "metadata": {},
   "outputs": [],
   "source": []
  }
 ],
 "metadata": {
  "kernelspec": {
   "display_name": "Python 3",
   "language": "python",
   "name": "python3"
  },
  "language_info": {
   "codemirror_mode": {
    "name": "ipython",
    "version": 3
   },
   "file_extension": ".py",
   "mimetype": "text/x-python",
   "name": "python",
   "nbconvert_exporter": "python",
   "pygments_lexer": "ipython3",
   "version": "3.6.1"
  }
 },
 "nbformat": 4,
 "nbformat_minor": 1
}
